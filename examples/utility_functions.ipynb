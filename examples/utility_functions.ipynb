{
 "cells": [
  {
   "cell_type": "code",
   "execution_count": 1,
   "id": "88067e0a",
   "metadata": {},
   "outputs": [],
   "source": [
    "import numpy as np\n",
    "import qfunk.utility as qut\n",
    "import qfunk.generator as qg"
   ]
  },
  {
   "cell_type": "markdown",
   "id": "117ae3bd",
   "metadata": {},
   "source": [
    "# Basic quantum information utility functions"
   ]
  },
  {
   "cell_type": "markdown",
   "id": "356f1f12",
   "metadata": {},
   "source": [
    "This notebook will concern the basic manipulation of quantum information objects. This is not a complete description of the package but covers some of the more commonly desired functions.\n",
    "\n",
    "## Contents\n",
    "1. Random generation\n",
    "2. Partial trace\n",
    "3. Partial transpose and system permute\n"
   ]
  },
  {
   "cell_type": "markdown",
   "id": "c7f3881f",
   "metadata": {},
   "source": [
    "\n",
    "## 1. Random generation\n",
    "\n",
    "Qfunk supports the random generation of a number of useful objects. At the most basic level, this includes random density operators over the [Haar measure](https://pennylane.ai/qml/demos/tutorial_haar_measure.html) from the generator module."
   ]
  },
  {
   "cell_type": "code",
   "execution_count": 2,
   "id": "eb238c8a",
   "metadata": {},
   "outputs": [],
   "source": [
    "random_density = qg.rand_rho(n=4)"
   ]
  },
  {
   "cell_type": "markdown",
   "id": "a5847f0d",
   "metadata": {},
   "source": [
    "Which is indeed a square trace one positive semidefinite matrix"
   ]
  },
  {
   "cell_type": "code",
   "execution_count": 3,
   "id": "baffafa5",
   "metadata": {},
   "outputs": [
    {
     "data": {
      "text/plain": [
       "(4, 4)"
      ]
     },
     "execution_count": 3,
     "metadata": {},
     "output_type": "execute_result"
    }
   ],
   "source": [
    "np.shape(random_density)"
   ]
  },
  {
   "cell_type": "code",
   "execution_count": 4,
   "id": "da6a309e",
   "metadata": {},
   "outputs": [
    {
     "data": {
      "text/plain": [
       "(0.9999999999999999+5.990217002982412e-18j)"
      ]
     },
     "execution_count": 4,
     "metadata": {},
     "output_type": "execute_result"
    }
   ],
   "source": [
    "np.trace(random_density)"
   ]
  },
  {
   "cell_type": "code",
   "execution_count": 5,
   "id": "95158c1d",
   "metadata": {},
   "outputs": [
    {
     "data": {
      "text/plain": [
       "array([0.27751227+3.52866420e-18j, 0.28381057+3.11956072e-17j,\n",
       "       0.22574785-2.65116394e-20j, 0.21292931-1.88413030e-17j])"
      ]
     },
     "execution_count": 5,
     "metadata": {},
     "output_type": "execute_result"
    }
   ],
   "source": [
    "np.linalg.eigvals(random_density)"
   ]
  },
  {
   "cell_type": "markdown",
   "id": "ff149a4f",
   "metadata": {},
   "source": [
    "which is hermitian and can be checked using the dagger utility function:"
   ]
  },
  {
   "cell_type": "code",
   "execution_count": 6,
   "id": "5d90cee1",
   "metadata": {},
   "outputs": [
    {
     "data": {
      "text/plain": [
       "array([[ True,  True,  True,  True],\n",
       "       [ True,  True,  True,  True],\n",
       "       [ True,  True,  True,  True],\n",
       "       [ True,  True,  True,  True]])"
      ]
     },
     "execution_count": 6,
     "metadata": {},
     "output_type": "execute_result"
    }
   ],
   "source": [
    "np.isclose(qut.dagger(random_density), random_density, atol=1e-15)"
   ]
  },
  {
   "cell_type": "markdown",
   "id": "071de5ac",
   "metadata": {},
   "source": [
    "One can also generate random pure states by setting the **pure** keyword to True."
   ]
  },
  {
   "cell_type": "code",
   "execution_count": 7,
   "id": "59e45391",
   "metadata": {},
   "outputs": [
    {
     "data": {
      "text/plain": [
       "1.0000000000000004"
      ]
     },
     "execution_count": 7,
     "metadata": {},
     "output_type": "execute_result"
    }
   ],
   "source": [
    "random_density = qg.rand_rho(4, pure=True)\n",
    "max(abs(np.linalg.eigvals(random_density)))"
   ]
  },
  {
   "cell_type": "markdown",
   "id": "298a6fbb",
   "metadata": {},
   "source": [
    "In addition to random state generation, random unitaries of arbitrary size are also easily generated according to the Haar measure. "
   ]
  },
  {
   "cell_type": "code",
   "execution_count": 8,
   "id": "dff3770d",
   "metadata": {},
   "outputs": [
    {
     "data": {
      "text/plain": [
       "array([[ True,  True,  True,  True],\n",
       "       [ True,  True,  True,  True],\n",
       "       [ True,  True,  True,  True],\n",
       "       [ True,  True,  True,  True]])"
      ]
     },
     "execution_count": 8,
     "metadata": {},
     "output_type": "execute_result"
    }
   ],
   "source": [
    "U = qg.random_unitary(n=4)\n",
    "# check that UU^\\dagger is the identity (same for U^\\dagger U )\n",
    "np.isclose(U @ qut.dagger(U), np.eye(4), atol=1e-15)"
   ]
  },
  {
   "cell_type": "markdown",
   "id": "2a9d3f58",
   "metadata": {},
   "source": [
    "## 2. Partial trace\n",
    "\n",
    "The partial trace of a bipartite state $\\rho_{AB}$ with respect to the subsystem $A(B)$ is computed by calling the trans `trace_x` function and specifying the index (beginning at $0$) of the corresponding Hilbert space. Computing the operation\n",
    "\n",
    "\\begin{equation}\n",
    "\\rho_A = tr_B [\\rho_{AB}] .\n",
    "\\end{equation}\n",
    "\n",
    "First we generate a maximally entangled bipartite state using `ent_gen` from the generator module as an example and specify the two component subsystems to be three dimensional vector spaces."
   ]
  },
  {
   "cell_type": "code",
   "execution_count": 9,
   "id": "04ef97c5",
   "metadata": {},
   "outputs": [],
   "source": [
    "rho_AB = qg.ent_gen(n=3)"
   ]
  },
  {
   "cell_type": "markdown",
   "id": "7ce15a01",
   "metadata": {},
   "source": [
    "Then we trace out the second subsystem by indicating its system index `[1]` and the dimension of the underlying Hilbert space in an ordered list `[3,3]`"
   ]
  },
  {
   "cell_type": "code",
   "execution_count": 10,
   "id": "8ef6f4a0",
   "metadata": {},
   "outputs": [],
   "source": [
    "rho_A = qut.trace_x(rho_AB, sys=[1], dim=[3,3])"
   ]
  },
  {
   "cell_type": "markdown",
   "id": "7667c19e",
   "metadata": {},
   "source": [
    "Which outputs $\\rho_A$, the reduced state on subsystem $A$."
   ]
  },
  {
   "cell_type": "code",
   "execution_count": 11,
   "id": "615535a4",
   "metadata": {},
   "outputs": [
    {
     "data": {
      "text/plain": [
       "array([[0.33333333+0.j, 0.        +0.j, 0.        +0.j],\n",
       "       [0.        +0.j, 0.33333333+0.j, 0.        +0.j],\n",
       "       [0.        +0.j, 0.        +0.j, 0.33333333+0.j]])"
      ]
     },
     "execution_count": 11,
     "metadata": {},
     "output_type": "execute_result"
    }
   ],
   "source": [
    "rho_A"
   ]
  },
  {
   "cell_type": "markdown",
   "id": "40c5a4cb",
   "metadata": {},
   "source": [
    "which is of course the maximally mixed state on three dimensions. We can get a bit more sophisticated and trace out multiple systems of different dimension using the `tn_product` function, which computes the tensor product of its arguments:"
   ]
  },
  {
   "cell_type": "code",
   "execution_count": 15,
   "id": "cf308c5c",
   "metadata": {},
   "outputs": [],
   "source": [
    "# generate random states of differing dimension for the subsystem\n",
    "rho_A = qg.rand_rho(n=2, pure=True)\n",
    "rho_B = qg.rand_rho(n=3, pure=True)\n",
    "rho_C = qg.rand_rho(n=4, pure=True)\n",
    "# create a list object for easy passing to the tensor product function, can also just use qut.tn_product(rho_A, rho_B, rho_C)\n",
    "subsystems = [rho_A, rho_B, rho_C]\n",
    "# compute the tensor product state\n",
    "rho_ABC = qut.tn_product(*subsystems)"
   ]
  },
  {
   "cell_type": "markdown",
   "id": "625df2e6",
   "metadata": {},
   "source": [
    "This function is also useful for computing tensor product powers quickly like $\\rho_A^{\\otimes3}$, by passing"
   ]
  },
  {
   "cell_type": "code",
   "execution_count": 13,
   "id": "d248ad43",
   "metadata": {},
   "outputs": [],
   "source": [
    "alist = [rho_A]*3\n",
    "rho_AAA = qut.tn_product(*alist)"
   ]
  },
  {
   "cell_type": "markdown",
   "id": "61bdf858",
   "metadata": {},
   "source": [
    "To recover the reduced states, we specify the partial trace as before, specifying the indices of subsystems $B,C$ and the ordered list of subsystem dimensions. "
   ]
  },
  {
   "cell_type": "code",
   "execution_count": 14,
   "id": "1f130b22",
   "metadata": {},
   "outputs": [
    {
     "data": {
      "text/plain": [
       "array([[ True,  True],\n",
       "       [ True,  True]])"
      ]
     },
     "execution_count": 14,
     "metadata": {},
     "output_type": "execute_result"
    }
   ],
   "source": [
    "rho_A_reduced = qut.trace_x(rho_ABC, [1,2],[2,3,4])\n",
    "# check if reduced state is still still rho_A\n",
    "np.isclose(rho_A, rho_A_reduced, atol=1e-15)"
   ]
  },
  {
   "cell_type": "markdown",
   "id": "e5a6571b",
   "metadata": {},
   "source": [
    "## 3. Partial transpose and subsystem permute\n",
    "\n",
    "The partial transpose `trans_x` and subsystem functions `sys_permute` operations act in a near identical way as the partial transpose. For the partial tranpose only the operator, the subsystems to permute indexed from zero and the subsystem dimensions need to be specified:"
   ]
  },
  {
   "cell_type": "code",
   "execution_count": 20,
   "id": "46b4114f",
   "metadata": {},
   "outputs": [
    {
     "data": {
      "text/plain": [
       "array([[ True,  True,  True,  True,  True,  True],\n",
       "       [ True,  True,  True,  True,  True,  True],\n",
       "       [ True,  True,  True,  True,  True,  True],\n",
       "       [ True,  True,  True,  True,  True,  True],\n",
       "       [ True,  True,  True,  True,  True,  True],\n",
       "       [ True,  True,  True,  True,  True,  True]])"
      ]
     },
     "execution_count": 20,
     "metadata": {},
     "output_type": "execute_result"
    }
   ],
   "source": [
    "# construct the state\n",
    "rho_A = qg.rand_rho(n=2)\n",
    "rho_B = qg.rand_rho(n=3)\n",
    "rho_AB = qut.tn_product(rho_A, rho_B)\n",
    "# compute partial transpose\n",
    "rho_AtB = qut.trans_x(rho_AB, sys=[0], dim=[2,3])\n",
    "# compare to ground truth\n",
    "np.isclose(rho_AtB, qut.tn_product(np.transpose(rho_A), rho_B), atol=1e-15)"
   ]
  },
  {
   "cell_type": "markdown",
   "id": "86c59f2f",
   "metadata": {},
   "source": [
    "The subsytem permute works in a similar way except all susbsytems and their new postions must be specified"
   ]
  },
  {
   "cell_type": "code",
   "execution_count": 27,
   "id": "6fb504fd",
   "metadata": {},
   "outputs": [],
   "source": [
    "# construct the state\n",
    "rho_A = qg.rand_rho(n=2)\n",
    "rho_B = qg.rand_rho(n=2)\n",
    "rho_C = qg.rand_rho(n=2)\n",
    "rho_ABC = qut.tn_product(rho_A, rho_B, rho_C)\n",
    "# swap ABC for BCA i.e. [0,1,2] -> [1,2,0]\n",
    "rho_BCA = qut.sys_permute(rho_ABC, perm=[1,2,0], dim=[2,2,2])"
   ]
  },
  {
   "cell_type": "markdown",
   "id": "0cedd940",
   "metadata": {},
   "source": [
    "Critically, the dimension list is the ordered list of dimensions for the \\textit{input} state, not the desired output state."
   ]
  },
  {
   "cell_type": "code",
   "execution_count": 28,
   "id": "66eced36",
   "metadata": {},
   "outputs": [
    {
     "data": {
      "text/plain": [
       "array([[ True,  True,  True,  True,  True,  True,  True,  True],\n",
       "       [ True,  True,  True,  True,  True,  True,  True,  True],\n",
       "       [ True,  True,  True,  True,  True,  True,  True,  True],\n",
       "       [ True,  True,  True,  True,  True,  True,  True,  True],\n",
       "       [ True,  True,  True,  True,  True,  True,  True,  True],\n",
       "       [ True,  True,  True,  True,  True,  True,  True,  True],\n",
       "       [ True,  True,  True,  True,  True,  True,  True,  True],\n",
       "       [ True,  True,  True,  True,  True,  True,  True,  True]])"
      ]
     },
     "execution_count": 28,
     "metadata": {},
     "output_type": "execute_result"
    }
   ],
   "source": [
    "np.isclose(rho_BCA, qut.tn_product(rho_B, rho_C, rho_A), atol=1e-15)"
   ]
  }
 ],
 "metadata": {
  "kernelspec": {
   "display_name": "Python 3 (ipykernel)",
   "language": "python",
   "name": "python3"
  },
  "language_info": {
   "codemirror_mode": {
    "name": "ipython",
    "version": 3
   },
   "file_extension": ".py",
   "mimetype": "text/x-python",
   "name": "python",
   "nbconvert_exporter": "python",
   "pygments_lexer": "ipython3",
   "version": "3.9.7"
  }
 },
 "nbformat": 4,
 "nbformat_minor": 5
}
