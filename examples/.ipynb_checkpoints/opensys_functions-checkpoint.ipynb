{
 "cells": [
  {
   "cell_type": "code",
   "execution_count": 10,
   "id": "3a349bed",
   "metadata": {},
   "outputs": [],
   "source": [
    "import numpy as np\n",
    "import qfunk.utility as qut\n",
    "import qfunk.generator as qg\n",
    "import qfunk.opensys as ops"
   ]
  },
  {
   "cell_type": "markdown",
   "id": "09dfb9ed",
   "metadata": {},
   "source": [
    "# Basic Choi Formalism related utility functions"
   ]
  },
  {
   "cell_type": "markdown",
   "id": "8b56fa54",
   "metadata": {},
   "source": [
    "This notebook concerns basic examples on the manipulation of maps in Choi form \n",
    "\n",
    "## Contents\n",
    "\n",
    "1. Link Product"
   ]
  },
  {
   "cell_type": "markdown",
   "id": "f68b2667",
   "metadata": {},
   "source": [
    "## 1. Link Product"
   ]
  },
  {
   "cell_type": "markdown",
   "id": "cf23ddb3",
   "metadata": {},
   "source": [
    "Qfunk allows the computation of the link product (defined, for example, in [Theoretical framework for quantum networks](https://arxiv.org/abs/0904.4483), of two matrices via the function `link_prod`. Concretely, for two matrices $A$ and $B$, defined on spaces $a$ and $b$, the link product is given by $A\\star B = \\text{tr}_{a\\cap b}[AB^{\\text{T}_{a\\cap b}}]$, where $\\bullet^{\\text{T}_{a\\cap b}}$ denotes partial transposition in the standard basis and identities have been omitted. \n",
    "\n",
    "As arguments, `link_prod` takes two lists C1, C2, each containing the corresponding matrix, the dimension of the spaces the matrices are defined on, and the names/labels of said spaces. It returns a list, containing the link product of the two matrices, the dimensions of the spaces it is defined on, and the labels of said spaces. "
   ]
  },
  {
   "cell_type": "code",
   "execution_count": 39,
   "id": "c869f6ae",
   "metadata": {},
   "outputs": [],
   "source": [
    "#Generate random matrices to make C1 and C2 (positive and unit trace, for easy comparison)\n",
    "r1 = qg.rand_rho(n=2)\n",
    "r2 = qg.rand_rho(n=3)\n",
    "r3 = qg.rand_rho(n=4)\n",
    "\n",
    "s1 = qg.rand_rho(n=3)\n",
    "s2 = qg.rand_rho(n=5)\n",
    "s3 = qg.rand_rho(n=2)\n",
    "\n",
    "\n",
    "#Construct two random matrices (tensor products, for easy comparison)\n",
    "M1 = qut.tn_product(r1, r2, r3)\n",
    "M2 = qut.tn_product(s1, s2, s3)\n",
    "\n",
    "#Dimensions of the systems\n",
    "dims1 = [2,3,4]\n",
    "dims2 = [3,5,2]\n",
    "                \n",
    "#Provide labels\n",
    "labels1 = ['A', 'B', 'C']\n",
    "labels2 = ['B', 'D', 'E']\n",
    "\n",
    "#Lists containing the relevant information\n",
    "C1 = (M1, dims1, labels1)\n",
    "C2 = (M2, dims2, labels2)"
   ]
  },
  {
   "cell_type": "markdown",
   "id": "dcc022f4",
   "metadata": {},
   "source": [
    "Importantly, the matrices do **not** have to be ordered in the same way -- for example, the order of spaces in the above case is ABC for M1 and BDE for M2. `link_prod` takes care of the ordering itself."
   ]
  },
  {
   "cell_type": "code",
   "execution_count": 40,
   "id": "94b958a3",
   "metadata": {},
   "outputs": [],
   "source": [
    "#Compute the Link product of M1 and M2\n",
    "Link = ops.link_prod(C1, C2)"
   ]
  },
  {
   "cell_type": "markdown",
   "id": "5b6de2c8",
   "metadata": {},
   "source": [
    "Check the dimensions and the labels of the spaces that **Link** is defined on"
   ]
  },
  {
   "cell_type": "code",
   "execution_count": 44,
   "id": "8ad369dc",
   "metadata": {},
   "outputs": [
    {
     "name": "stdout",
     "output_type": "stream",
     "text": [
      "New Dimensions: [2 4 5 2]\n",
      "New Labels: ['A' 'C' 'D' 'E']\n"
     ]
    }
   ],
   "source": [
    "(dims_new, labels_new) = Link[1:3]\n",
    "\n",
    "print('New Dimensions: {}'.format(dims_new))\n",
    "print('New Labels: {}'.format(labels_new))"
   ]
  },
  {
   "cell_type": "markdown",
   "id": "c3ef4d2f",
   "metadata": {},
   "source": [
    "Check that the result is indeed correct"
   ]
  },
  {
   "cell_type": "code",
   "execution_count": 65,
   "id": "3c174bf3",
   "metadata": {},
   "outputs": [
    {
     "name": "stdout",
     "output_type": "stream",
     "text": [
      "Both matrices coincide: True\n"
     ]
    }
   ],
   "source": [
    "#Compute the link product of C1 and C2 by hand\n",
    "\n",
    "#Part that is traced out\n",
    "TracePart = np.trace(np.dot(r2, s1.transpose()))\n",
    "\n",
    "#Manual link product\n",
    "Link_manual = TracePart*qut.tn_product(r1, r3, s2, s3)\n",
    "\n",
    "#Link product from link_product\n",
    "Link_func = Link[0]\n",
    "\n",
    "#Compare both results\n",
    "print('Both matrices coincide: {}'.format(np.all(np.isclose(Link_func, Link_manual, atol=1e-15))))"
   ]
  },
  {
   "cell_type": "markdown",
   "id": "f9ed2f5c",
   "metadata": {},
   "source": [
    "`link_prod` also works if both matrices share more than one common space"
   ]
  },
  {
   "cell_type": "code",
   "execution_count": 57,
   "id": "32ccc283",
   "metadata": {},
   "outputs": [
    {
     "name": "stdout",
     "output_type": "stream",
     "text": [
      "New Dimensions: [4 5]\n",
      "New Labels: ['C' 'D']\n"
     ]
    }
   ],
   "source": [
    "#New labels, such that both matrices share two spaces (A,B)\n",
    "labels1_new = ['A', 'B', 'C']\n",
    "labels2_new = ['B', 'D', 'A']\n",
    "\n",
    "C1_new = (M1, dims1, labels1_new)\n",
    "C2_new = (M2, dims2, labels2_new)\n",
    "\n",
    "Link_new = ops.link_prod(C1_new, C2_new)\n",
    "\n",
    "#Check resulting dimensions and labels\n",
    "(dims_new, labels_new) = Link_new[1:3]\n",
    "print('New Dimensions: {}'.format(dims_new))\n",
    "print('New Labels: {}'.format(labels_new))\n"
   ]
  },
  {
   "cell_type": "markdown",
   "id": "4b0f14c2",
   "metadata": {},
   "source": [
    "Check correctness of resulting link product"
   ]
  },
  {
   "cell_type": "code",
   "execution_count": 66,
   "id": "afd2b605",
   "metadata": {},
   "outputs": [
    {
     "name": "stdout",
     "output_type": "stream",
     "text": [
      "Both matrices coincide: True\n"
     ]
    }
   ],
   "source": [
    "#Compute the link product of C1_new and C2_new by hand\n",
    "\n",
    "#Part that is traced out\n",
    "TracePart = np.trace(np.dot(qut.tn_product(r1,r2), qut.tn_product(s3,s1).transpose()))\n",
    "\n",
    "#Manual link product\n",
    "Link_manual = TracePart*qut.tn_product(r3, s2)\n",
    "\n",
    "#Link product from link_product\n",
    "Link_func = Link_new[0]\n",
    "\n",
    "#Compare both results\n",
    "print('Both matrices coincide: {}'.format(np.all(np.isclose(Link_func, Link_manual, atol=1e-15))))"
   ]
  },
  {
   "cell_type": "markdown",
   "id": "5a5944b6",
   "metadata": {},
   "source": [
    "Finally, `link_prod` also works if both matrices do not share common spaces"
   ]
  },
  {
   "cell_type": "code",
   "execution_count": 63,
   "id": "b0b46db6",
   "metadata": {},
   "outputs": [
    {
     "name": "stdout",
     "output_type": "stream",
     "text": [
      "New Dimensions: [2 3 4 3 5 2]\n",
      "New Labels: ['A' 'B' 'C' 'D' 'E' 'F']\n",
      "Both matrices coincide: True\n"
     ]
    }
   ],
   "source": [
    "#New labels, such that both matrices do not share any spaces\n",
    "labels1_nocommon = ['A', 'B', 'C']\n",
    "labels2_nocommon = ['D', 'E', 'F']\n",
    "\n",
    "C1_nocommon = (M1, dims1, labels1_nocommon)\n",
    "C2_nocommon = (M2, dims2, labels2_nocommon)\n",
    "\n",
    "Link_nocommon = ops.link_prod(C1_nocommon, C2_nocommon)\n",
    "\n",
    "#Check resulting dimensions and labels\n",
    "(dims_nocommon, labels_nocommon) = Link_nocommon[1:3]\n",
    "print('New Dimensions: {}'.format(dims_nocommon))\n",
    "print('New Labels: {}'.format(labels_nocommon))\n",
    "\n",
    "#Check correctness of the resulting matrix\n",
    "\n",
    "#Manual link product\n",
    "Link_manual = qut.tn_product(r1, r2, r3, s1, s2, s3)\n",
    "\n",
    "#Link product from link_product\n",
    "Link_func_nocommon = Link_nocommon[0]\n",
    "\n",
    "#Compare both results\n",
    "print('Both matrices coincide: {}'.format(np.all(np.isclose(Link_func_nocommon, Link_manual, atol=1e-15))))"
   ]
  },
  {
   "cell_type": "code",
   "execution_count": null,
   "id": "cb93052b",
   "metadata": {},
   "outputs": [],
   "source": []
  }
 ],
 "metadata": {
  "kernelspec": {
   "display_name": "Python 3 (ipykernel)",
   "language": "python",
   "name": "python3"
  },
  "language_info": {
   "codemirror_mode": {
    "name": "ipython",
    "version": 3
   },
   "file_extension": ".py",
   "mimetype": "text/x-python",
   "name": "python",
   "nbconvert_exporter": "python",
   "pygments_lexer": "ipython3",
   "version": "3.10.6"
  }
 },
 "nbformat": 4,
 "nbformat_minor": 5
}
