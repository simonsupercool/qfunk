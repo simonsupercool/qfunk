{
 "cells": [
  {
   "cell_type": "code",
   "execution_count": 1,
   "id": "3a349bed",
   "metadata": {},
   "outputs": [
    {
     "ename": "ModuleNotFoundError",
     "evalue": "No module named 'qfunk'",
     "output_type": "error",
     "traceback": [
      "\u001b[0;31m---------------------------------------------------------------------------\u001b[0m",
      "\u001b[0;31mModuleNotFoundError\u001b[0m                       Traceback (most recent call last)",
      "\u001b[0;32m/tmp/ipykernel_734631/1467235012.py\u001b[0m in \u001b[0;36m<module>\u001b[0;34m\u001b[0m\n\u001b[1;32m      1\u001b[0m \u001b[0;32mimport\u001b[0m \u001b[0mnumpy\u001b[0m \u001b[0;32mas\u001b[0m \u001b[0mnp\u001b[0m\u001b[0;34m\u001b[0m\u001b[0;34m\u001b[0m\u001b[0m\n\u001b[0;32m----> 2\u001b[0;31m \u001b[0;32mimport\u001b[0m \u001b[0mqfunk\u001b[0m\u001b[0;34m.\u001b[0m\u001b[0mutility\u001b[0m \u001b[0;32mas\u001b[0m \u001b[0mqut\u001b[0m\u001b[0;34m\u001b[0m\u001b[0;34m\u001b[0m\u001b[0m\n\u001b[0m\u001b[1;32m      3\u001b[0m \u001b[0;32mimport\u001b[0m \u001b[0mqfunk\u001b[0m\u001b[0;34m.\u001b[0m\u001b[0mgenerator\u001b[0m \u001b[0;32mas\u001b[0m \u001b[0mqg\u001b[0m\u001b[0;34m\u001b[0m\u001b[0;34m\u001b[0m\u001b[0m\n\u001b[1;32m      4\u001b[0m \u001b[0;32mimport\u001b[0m \u001b[0mqfunk\u001b[0m\u001b[0;34m.\u001b[0m\u001b[0mqoptic\u001b[0m \u001b[0;32mas\u001b[0m \u001b[0mqop\u001b[0m\u001b[0;34m\u001b[0m\u001b[0;34m\u001b[0m\u001b[0m\n",
      "\u001b[0;31mModuleNotFoundError\u001b[0m: No module named 'qfunk'"
     ]
    }
   ],
   "source": [
    "import numpy as np\n",
    "import qfunk.utility as qut\n",
    "import qfunk.generator as qg\n",
    "import qfunk.qoptic as qop"
   ]
  },
  {
   "cell_type": "markdown",
   "id": "09dfb9ed",
   "metadata": {},
   "source": [
    "# Quantum optics examples"
   ]
  },
  {
   "cell_type": "markdown",
   "id": "8b56fa54",
   "metadata": {},
   "source": [
    "This notebook explores qfunks support for single photon quantum optics, mostly with simulating small systems of tens of modes and a few single photons. It is not performance driven, though much of the code can be heavily optimised without much effort if their is desire for such a thing. \n",
    "\n",
    "## Contents\n",
    "\n",
    "1. Number states\n",
    "2. Linear optics\n",
    "3. Symmetric map\n",
    "4. Multiphoton quantum optics"
   ]
  },
  {
   "cell_type": "markdown",
   "id": "f68b2667",
   "metadata": {},
   "source": [
    "## 1. Number States"
   ]
  },
  {
   "cell_type": "markdown",
   "id": "cf23ddb3",
   "metadata": {},
   "source": [
    "Many packages already exist that simulate quantum optics, a simple google search will yield such things trivially. Qfunk has a focus on collecting quantum optics functions that are primarily interesting in the finite dimensional, single photonic (technically bosonic) regime. \n",
    "\n",
    "The symmetric nature of working with indistingushable photons means that concatenating multiple quantum systems of single photons is not as simple as simply taking the tensor product of the underlying vector spaces: \n",
    "\n",
    "\\begin{equation}\n",
    "\\mathcal{H}_d \\otimes \\mathcal{H}_d \\otimes \\dots \\mathcal{H}_d \\rightarrow \\mathcal{H}_d \\odot \\mathcal{H}_d \\odot \\dots \\mathcal{H}_d \\neq \\mathcal{H}_{d \\times d \\times \\dots d} \n",
    "\\end{equation}\n",
    "\n",
    "This is most obvious in the support for composing and decomposing unitary operators that are restricted to those implemented by just linear optics."
   ]
  },
  {
   "cell_type": "code",
   "execution_count": 4,
   "id": "cb93052b",
   "metadata": {},
   "outputs": [
    {
     "ename": "NameError",
     "evalue": "name 'qop' is not defined",
     "output_type": "error",
     "traceback": [
      "\u001b[0;31m---------------------------------------------------------------------------\u001b[0m",
      "\u001b[0;31mNameError\u001b[0m                                 Traceback (most recent call last)",
      "\u001b[0;32m/tmp/ipykernel_705240/707065167.py\u001b[0m in \u001b[0;36m<module>\u001b[0;34m\u001b[0m\n\u001b[1;32m      3\u001b[0m \u001b[0mphotons\u001b[0m \u001b[0;34m=\u001b[0m \u001b[0;36m2\u001b[0m\u001b[0;34m\u001b[0m\u001b[0;34m\u001b[0m\u001b[0m\n\u001b[1;32m      4\u001b[0m \u001b[0;31m# compute the overall dimension of such a system\u001b[0m\u001b[0;34m\u001b[0m\u001b[0;34m\u001b[0m\u001b[0m\n\u001b[0;32m----> 5\u001b[0;31m \u001b[0mphotonic_dim\u001b[0m \u001b[0;34m=\u001b[0m \u001b[0mqop\u001b[0m\u001b[0;34m.\u001b[0m\u001b[0mfock_dim\u001b[0m\u001b[0;34m(\u001b[0m\u001b[0mmodes\u001b[0m\u001b[0;34m,\u001b[0m \u001b[0mphotons\u001b[0m\u001b[0;34m)\u001b[0m\u001b[0;34m\u001b[0m\u001b[0;34m\u001b[0m\u001b[0m\n\u001b[0m",
      "\u001b[0;31mNameError\u001b[0m: name 'qop' is not defined"
     ]
    }
   ],
   "source": [
    "# choose a system size to simulate\n",
    "modes = 4\n",
    "photons = 2\n",
    "# compute the overall dimension of such a system\n",
    "photonic_dim = qop.fock_dim(modes, photons)"
   ]
  },
  {
   "cell_type": "code",
   "execution_count": null,
   "id": "37009065",
   "metadata": {},
   "outputs": [],
   "source": []
  }
 ],
 "metadata": {
  "kernelspec": {
   "display_name": "Python 3 (ipykernel)",
   "language": "python",
   "name": "python3"
  },
  "language_info": {
   "codemirror_mode": {
    "name": "ipython",
    "version": 3
   },
   "file_extension": ".py",
   "mimetype": "text/x-python",
   "name": "python",
   "nbconvert_exporter": "python",
   "pygments_lexer": "ipython3",
   "version": "3.10.6"
  }
 },
 "nbformat": 4,
 "nbformat_minor": 5
}
